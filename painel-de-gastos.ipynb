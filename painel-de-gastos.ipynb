{
 "metadata": {
  "language_info": {
   "codemirror_mode": {
    "name": "ipython",
    "version": 3
   },
   "file_extension": ".py",
   "mimetype": "text/x-python",
   "name": "python",
   "nbconvert_exporter": "python",
   "pygments_lexer": "ipython3",
   "version": "3.6.9-final"
  },
  "orig_nbformat": 2,
  "kernelspec": {
   "name": "python3",
   "display_name": "Python 3.6.9 64-bit ('venv')",
   "metadata": {
    "interpreter": {
     "hash": "47950f82836bc0609970015104151090e9975713065ae50ff2328b7aac19dc40"
    }
   }
  }
 },
 "nbformat": 4,
 "nbformat_minor": 2,
 "cells": [
  {
   "cell_type": "code",
   "execution_count": 76,
   "metadata": {},
   "outputs": [],
   "source": [
    "import pandas as pd \n",
    "import numpy as np\n",
    "\n",
    "pd.set_option('display.max_columns', 30)\n",
    "pd.set_option('display.float_format', lambda x: '%.2f' % x)"
   ]
  },
  {
   "source": [
    "Importando a tabela de gastos de 2020:"
   ],
   "cell_type": "markdown",
   "metadata": {}
  },
  {
   "cell_type": "code",
   "execution_count": 62,
   "metadata": {},
   "outputs": [
    {
     "output_type": "execute_result",
     "data": {
      "text/plain": [
       "        data                documento documentoResumido  \\\n",
       "0 2020-02-01  154040152572020OB800038      2020OB800038   \n",
       "1 2020-02-01  154040152572020OB800037      2020OB800037   \n",
       "2 2020-02-01  154040152572020OB800036      2020OB800036   \n",
       "\n",
       "                                          observacao          funcao  \\\n",
       "0  APROPRIACAO DA FOLHA DE PAGAMENTO DO SERVIDOR ...  -14 - Múltiplo   \n",
       "1  APROPRIACAO DA FOLHA DE PAGAMENTO DO SERVIDOR ...  -14 - Múltiplo   \n",
       "2  APROPRIACAO DA FOLHA DE PAGAMENTO DO SERVIDOR ...   12 - Educação   \n",
       "\n",
       "               subfuncao                                           programa  \\\n",
       "0         -14 - Múltiplo                                     -14 - Múltiplo   \n",
       "1         -14 - Múltiplo                                     -14 - Múltiplo   \n",
       "2  364 - Ensino superior  2109 - PROGRAMA DE GESTAO E MANUTENCAO DO MINI...   \n",
       "\n",
       "                           acao  \\\n",
       "0                -14 - Múltiplo   \n",
       "1                -14 - Múltiplo   \n",
       "2  20TP - ATIVOS CIVIS DA UNIAO   \n",
       "\n",
       "                                           subtitulo  \\\n",
       "0                                     -14 - Múltiplo   \n",
       "1                                     -14 - Múltiplo   \n",
       "2  20TP0053 - ATIVOS CIVIS DA UNIAO              ...   \n",
       "\n",
       "             localizadorGasto       fase   especie  \\\n",
       "0              -14 - Múltiplo  Pagamento  Original   \n",
       "1              -14 - Múltiplo  Pagamento  Original   \n",
       "2  0053 - NO DISTRITO FEDERAL  Pagamento  Original   \n",
       "\n",
       "                                          favorecido    codigoFavorecido  \\\n",
       "0            00.000.000/0001-91 - BANCO DO BRASIL SA  00.000.000/0001-91   \n",
       "1            00.000.000/0001-91 - BANCO DO BRASIL SA  00.000.000/0001-91   \n",
       "2  02.038.232/0001-64 - BANCO COOPERATIVO DO BRAS...  02.038.232/0001-64   \n",
       "\n",
       "                    nomeFavorecido ufFavorecido          valor  \\\n",
       "0               BANCO DO BRASIL SA           DF  20.000.000,00   \n",
       "1               BANCO DO BRASIL SA           DF  20.000.000,00   \n",
       "2  BANCO COOPERATIVO DO BRASIL S/A           DF   1.462.417,50   \n",
       "\n",
       "                                        ug  \\\n",
       "0  FUNDACAO UNIVERSIDADE DE BRASILIA - FUB   \n",
       "1  FUNDACAO UNIVERSIDADE DE BRASILIA - FUB   \n",
       "2  FUNDACAO UNIVERSIDADE DE BRASILIA - FUB   \n",
       "\n",
       "                                              uo  \\\n",
       "0  FUNDACAO UNIVERSIDADE DE BRASILIA               \n",
       "1  FUNDACAO UNIVERSIDADE DE BRASILIA               \n",
       "2  FUNDACAO UNIVERSIDADE DE BRASILIA               \n",
       "\n",
       "                               orgao           orgaoSuperior  \\\n",
       "0  Fundação Universidade de Brasília  Ministério da Educação   \n",
       "1  Fundação Universidade de Brasília  Ministério da Educação   \n",
       "2  Fundação Universidade de Brasília  Ministério da Educação   \n",
       "\n",
       "                categoria                           grupo  \\\n",
       "0            M - Múltiplo                    M - Múltiplo   \n",
       "1            M - Múltiplo                    M - Múltiplo   \n",
       "2  3 - DESPESAS CORRENTES  1 - Pessoal e Encargos Sociais   \n",
       "\n",
       "                                            elemento  \\\n",
       "0                                      -4 - Múltiplo   \n",
       "1                                      -4 - Múltiplo   \n",
       "2  11 - Vencimentos e Vantagens Fixas - Pessoal C...   \n",
       "\n",
       "                     modalidade        numeroProcesso           autor  \n",
       "0                 -4 - Múltiplo  23106.006576/2019-16  Sem Informação  \n",
       "1                 -4 - Múltiplo  23106.006576/2019-16  Sem Informação  \n",
       "2  90 - Reserva de Contingência  23106.006576/2019-16  Sem Informação  "
      ],
      "text/html": "<div>\n<style scoped>\n    .dataframe tbody tr th:only-of-type {\n        vertical-align: middle;\n    }\n\n    .dataframe tbody tr th {\n        vertical-align: top;\n    }\n\n    .dataframe thead th {\n        text-align: right;\n    }\n</style>\n<table border=\"1\" class=\"dataframe\">\n  <thead>\n    <tr style=\"text-align: right;\">\n      <th></th>\n      <th>data</th>\n      <th>documento</th>\n      <th>documentoResumido</th>\n      <th>observacao</th>\n      <th>funcao</th>\n      <th>subfuncao</th>\n      <th>programa</th>\n      <th>acao</th>\n      <th>subtitulo</th>\n      <th>localizadorGasto</th>\n      <th>fase</th>\n      <th>especie</th>\n      <th>favorecido</th>\n      <th>codigoFavorecido</th>\n      <th>nomeFavorecido</th>\n      <th>ufFavorecido</th>\n      <th>valor</th>\n      <th>ug</th>\n      <th>uo</th>\n      <th>orgao</th>\n      <th>orgaoSuperior</th>\n      <th>categoria</th>\n      <th>grupo</th>\n      <th>elemento</th>\n      <th>modalidade</th>\n      <th>numeroProcesso</th>\n      <th>autor</th>\n    </tr>\n  </thead>\n  <tbody>\n    <tr>\n      <th>0</th>\n      <td>2020-02-01</td>\n      <td>154040152572020OB800038</td>\n      <td>2020OB800038</td>\n      <td>APROPRIACAO DA FOLHA DE PAGAMENTO DO SERVIDOR ...</td>\n      <td>-14 - Múltiplo</td>\n      <td>-14 - Múltiplo</td>\n      <td>-14 - Múltiplo</td>\n      <td>-14 - Múltiplo</td>\n      <td>-14 - Múltiplo</td>\n      <td>-14 - Múltiplo</td>\n      <td>Pagamento</td>\n      <td>Original</td>\n      <td>00.000.000/0001-91 - BANCO DO BRASIL SA</td>\n      <td>00.000.000/0001-91</td>\n      <td>BANCO DO BRASIL SA</td>\n      <td>DF</td>\n      <td>20.000.000,00</td>\n      <td>FUNDACAO UNIVERSIDADE DE BRASILIA - FUB</td>\n      <td>FUNDACAO UNIVERSIDADE DE BRASILIA</td>\n      <td>Fundação Universidade de Brasília</td>\n      <td>Ministério da Educação</td>\n      <td>M - Múltiplo</td>\n      <td>M - Múltiplo</td>\n      <td>-4 - Múltiplo</td>\n      <td>-4 - Múltiplo</td>\n      <td>23106.006576/2019-16</td>\n      <td>Sem Informação</td>\n    </tr>\n    <tr>\n      <th>1</th>\n      <td>2020-02-01</td>\n      <td>154040152572020OB800037</td>\n      <td>2020OB800037</td>\n      <td>APROPRIACAO DA FOLHA DE PAGAMENTO DO SERVIDOR ...</td>\n      <td>-14 - Múltiplo</td>\n      <td>-14 - Múltiplo</td>\n      <td>-14 - Múltiplo</td>\n      <td>-14 - Múltiplo</td>\n      <td>-14 - Múltiplo</td>\n      <td>-14 - Múltiplo</td>\n      <td>Pagamento</td>\n      <td>Original</td>\n      <td>00.000.000/0001-91 - BANCO DO BRASIL SA</td>\n      <td>00.000.000/0001-91</td>\n      <td>BANCO DO BRASIL SA</td>\n      <td>DF</td>\n      <td>20.000.000,00</td>\n      <td>FUNDACAO UNIVERSIDADE DE BRASILIA - FUB</td>\n      <td>FUNDACAO UNIVERSIDADE DE BRASILIA</td>\n      <td>Fundação Universidade de Brasília</td>\n      <td>Ministério da Educação</td>\n      <td>M - Múltiplo</td>\n      <td>M - Múltiplo</td>\n      <td>-4 - Múltiplo</td>\n      <td>-4 - Múltiplo</td>\n      <td>23106.006576/2019-16</td>\n      <td>Sem Informação</td>\n    </tr>\n    <tr>\n      <th>2</th>\n      <td>2020-02-01</td>\n      <td>154040152572020OB800036</td>\n      <td>2020OB800036</td>\n      <td>APROPRIACAO DA FOLHA DE PAGAMENTO DO SERVIDOR ...</td>\n      <td>12 - Educação</td>\n      <td>364 - Ensino superior</td>\n      <td>2109 - PROGRAMA DE GESTAO E MANUTENCAO DO MINI...</td>\n      <td>20TP - ATIVOS CIVIS DA UNIAO</td>\n      <td>20TP0053 - ATIVOS CIVIS DA UNIAO              ...</td>\n      <td>0053 - NO DISTRITO FEDERAL</td>\n      <td>Pagamento</td>\n      <td>Original</td>\n      <td>02.038.232/0001-64 - BANCO COOPERATIVO DO BRAS...</td>\n      <td>02.038.232/0001-64</td>\n      <td>BANCO COOPERATIVO DO BRASIL S/A</td>\n      <td>DF</td>\n      <td>1.462.417,50</td>\n      <td>FUNDACAO UNIVERSIDADE DE BRASILIA - FUB</td>\n      <td>FUNDACAO UNIVERSIDADE DE BRASILIA</td>\n      <td>Fundação Universidade de Brasília</td>\n      <td>Ministério da Educação</td>\n      <td>3 - DESPESAS CORRENTES</td>\n      <td>1 - Pessoal e Encargos Sociais</td>\n      <td>11 - Vencimentos e Vantagens Fixas - Pessoal C...</td>\n      <td>90 - Reserva de Contingência</td>\n      <td>23106.006576/2019-16</td>\n      <td>Sem Informação</td>\n    </tr>\n  </tbody>\n</table>\n</div>"
     },
     "metadata": {},
     "execution_count": 62
    }
   ],
   "source": [
    "gastos = pd.read_csv('gastos-2020', \n",
    "                      parse_dates=['data'])\n",
    "gastos.head(3)"
   ]
  },
  {
   "source": [
    "Há muitas colunas (27), então vamos tentar eliminar as que não têm informação relevante. Vamos primeiro identificar colunas que têm apenas um valor:"
   ],
   "cell_type": "markdown",
   "metadata": {}
  },
  {
   "cell_type": "code",
   "execution_count": 63,
   "metadata": {},
   "outputs": [
    {
     "output_type": "stream",
     "name": "stdout",
     "text": [
      "As colunas constantes, que estão sendo eliminadas do dataframe, são: ['fase', 'ug', 'orgao', 'orgaoSuperior', 'autor']\n"
     ]
    },
    {
     "output_type": "execute_result",
     "data": {
      "text/plain": [
       "        data                documento documentoResumido  \\\n",
       "0 2020-02-01  154040152572020OB800038      2020OB800038   \n",
       "1 2020-02-01  154040152572020OB800037      2020OB800037   \n",
       "2 2020-02-01  154040152572020OB800036      2020OB800036   \n",
       "\n",
       "                                          observacao          funcao  \\\n",
       "0  APROPRIACAO DA FOLHA DE PAGAMENTO DO SERVIDOR ...  -14 - Múltiplo   \n",
       "1  APROPRIACAO DA FOLHA DE PAGAMENTO DO SERVIDOR ...  -14 - Múltiplo   \n",
       "2  APROPRIACAO DA FOLHA DE PAGAMENTO DO SERVIDOR ...   12 - Educação   \n",
       "\n",
       "               subfuncao                                           programa  \\\n",
       "0         -14 - Múltiplo                                     -14 - Múltiplo   \n",
       "1         -14 - Múltiplo                                     -14 - Múltiplo   \n",
       "2  364 - Ensino superior  2109 - PROGRAMA DE GESTAO E MANUTENCAO DO MINI...   \n",
       "\n",
       "                           acao  \\\n",
       "0                -14 - Múltiplo   \n",
       "1                -14 - Múltiplo   \n",
       "2  20TP - ATIVOS CIVIS DA UNIAO   \n",
       "\n",
       "                                           subtitulo  \\\n",
       "0                                     -14 - Múltiplo   \n",
       "1                                     -14 - Múltiplo   \n",
       "2  20TP0053 - ATIVOS CIVIS DA UNIAO              ...   \n",
       "\n",
       "             localizadorGasto   especie  \\\n",
       "0              -14 - Múltiplo  Original   \n",
       "1              -14 - Múltiplo  Original   \n",
       "2  0053 - NO DISTRITO FEDERAL  Original   \n",
       "\n",
       "                                          favorecido    codigoFavorecido  \\\n",
       "0            00.000.000/0001-91 - BANCO DO BRASIL SA  00.000.000/0001-91   \n",
       "1            00.000.000/0001-91 - BANCO DO BRASIL SA  00.000.000/0001-91   \n",
       "2  02.038.232/0001-64 - BANCO COOPERATIVO DO BRAS...  02.038.232/0001-64   \n",
       "\n",
       "                    nomeFavorecido ufFavorecido          valor  \\\n",
       "0               BANCO DO BRASIL SA           DF  20.000.000,00   \n",
       "1               BANCO DO BRASIL SA           DF  20.000.000,00   \n",
       "2  BANCO COOPERATIVO DO BRASIL S/A           DF   1.462.417,50   \n",
       "\n",
       "                                              uo               categoria  \\\n",
       "0  FUNDACAO UNIVERSIDADE DE BRASILIA                        M - Múltiplo   \n",
       "1  FUNDACAO UNIVERSIDADE DE BRASILIA                        M - Múltiplo   \n",
       "2  FUNDACAO UNIVERSIDADE DE BRASILIA              3 - DESPESAS CORRENTES   \n",
       "\n",
       "                            grupo  \\\n",
       "0                    M - Múltiplo   \n",
       "1                    M - Múltiplo   \n",
       "2  1 - Pessoal e Encargos Sociais   \n",
       "\n",
       "                                            elemento  \\\n",
       "0                                      -4 - Múltiplo   \n",
       "1                                      -4 - Múltiplo   \n",
       "2  11 - Vencimentos e Vantagens Fixas - Pessoal C...   \n",
       "\n",
       "                     modalidade        numeroProcesso  \n",
       "0                 -4 - Múltiplo  23106.006576/2019-16  \n",
       "1                 -4 - Múltiplo  23106.006576/2019-16  \n",
       "2  90 - Reserva de Contingência  23106.006576/2019-16  "
      ],
      "text/html": "<div>\n<style scoped>\n    .dataframe tbody tr th:only-of-type {\n        vertical-align: middle;\n    }\n\n    .dataframe tbody tr th {\n        vertical-align: top;\n    }\n\n    .dataframe thead th {\n        text-align: right;\n    }\n</style>\n<table border=\"1\" class=\"dataframe\">\n  <thead>\n    <tr style=\"text-align: right;\">\n      <th></th>\n      <th>data</th>\n      <th>documento</th>\n      <th>documentoResumido</th>\n      <th>observacao</th>\n      <th>funcao</th>\n      <th>subfuncao</th>\n      <th>programa</th>\n      <th>acao</th>\n      <th>subtitulo</th>\n      <th>localizadorGasto</th>\n      <th>especie</th>\n      <th>favorecido</th>\n      <th>codigoFavorecido</th>\n      <th>nomeFavorecido</th>\n      <th>ufFavorecido</th>\n      <th>valor</th>\n      <th>uo</th>\n      <th>categoria</th>\n      <th>grupo</th>\n      <th>elemento</th>\n      <th>modalidade</th>\n      <th>numeroProcesso</th>\n    </tr>\n  </thead>\n  <tbody>\n    <tr>\n      <th>0</th>\n      <td>2020-02-01</td>\n      <td>154040152572020OB800038</td>\n      <td>2020OB800038</td>\n      <td>APROPRIACAO DA FOLHA DE PAGAMENTO DO SERVIDOR ...</td>\n      <td>-14 - Múltiplo</td>\n      <td>-14 - Múltiplo</td>\n      <td>-14 - Múltiplo</td>\n      <td>-14 - Múltiplo</td>\n      <td>-14 - Múltiplo</td>\n      <td>-14 - Múltiplo</td>\n      <td>Original</td>\n      <td>00.000.000/0001-91 - BANCO DO BRASIL SA</td>\n      <td>00.000.000/0001-91</td>\n      <td>BANCO DO BRASIL SA</td>\n      <td>DF</td>\n      <td>20.000.000,00</td>\n      <td>FUNDACAO UNIVERSIDADE DE BRASILIA</td>\n      <td>M - Múltiplo</td>\n      <td>M - Múltiplo</td>\n      <td>-4 - Múltiplo</td>\n      <td>-4 - Múltiplo</td>\n      <td>23106.006576/2019-16</td>\n    </tr>\n    <tr>\n      <th>1</th>\n      <td>2020-02-01</td>\n      <td>154040152572020OB800037</td>\n      <td>2020OB800037</td>\n      <td>APROPRIACAO DA FOLHA DE PAGAMENTO DO SERVIDOR ...</td>\n      <td>-14 - Múltiplo</td>\n      <td>-14 - Múltiplo</td>\n      <td>-14 - Múltiplo</td>\n      <td>-14 - Múltiplo</td>\n      <td>-14 - Múltiplo</td>\n      <td>-14 - Múltiplo</td>\n      <td>Original</td>\n      <td>00.000.000/0001-91 - BANCO DO BRASIL SA</td>\n      <td>00.000.000/0001-91</td>\n      <td>BANCO DO BRASIL SA</td>\n      <td>DF</td>\n      <td>20.000.000,00</td>\n      <td>FUNDACAO UNIVERSIDADE DE BRASILIA</td>\n      <td>M - Múltiplo</td>\n      <td>M - Múltiplo</td>\n      <td>-4 - Múltiplo</td>\n      <td>-4 - Múltiplo</td>\n      <td>23106.006576/2019-16</td>\n    </tr>\n    <tr>\n      <th>2</th>\n      <td>2020-02-01</td>\n      <td>154040152572020OB800036</td>\n      <td>2020OB800036</td>\n      <td>APROPRIACAO DA FOLHA DE PAGAMENTO DO SERVIDOR ...</td>\n      <td>12 - Educação</td>\n      <td>364 - Ensino superior</td>\n      <td>2109 - PROGRAMA DE GESTAO E MANUTENCAO DO MINI...</td>\n      <td>20TP - ATIVOS CIVIS DA UNIAO</td>\n      <td>20TP0053 - ATIVOS CIVIS DA UNIAO              ...</td>\n      <td>0053 - NO DISTRITO FEDERAL</td>\n      <td>Original</td>\n      <td>02.038.232/0001-64 - BANCO COOPERATIVO DO BRAS...</td>\n      <td>02.038.232/0001-64</td>\n      <td>BANCO COOPERATIVO DO BRASIL S/A</td>\n      <td>DF</td>\n      <td>1.462.417,50</td>\n      <td>FUNDACAO UNIVERSIDADE DE BRASILIA</td>\n      <td>3 - DESPESAS CORRENTES</td>\n      <td>1 - Pessoal e Encargos Sociais</td>\n      <td>11 - Vencimentos e Vantagens Fixas - Pessoal C...</td>\n      <td>90 - Reserva de Contingência</td>\n      <td>23106.006576/2019-16</td>\n    </tr>\n  </tbody>\n</table>\n</div>"
     },
     "metadata": {},
     "execution_count": 63
    }
   ],
   "source": [
    "colunas_constantes = gastos.columns[gastos.nunique() <= 1]\n",
    "print('As colunas constantes, que estão sendo eliminadas do dataframe, são: '\n",
    "      + str(list(colunas_constantes)))\n",
    "\n",
    "gastos.drop(list(colunas_constantes), inplace=True, axis=1)\n",
    "gastos.head(3)"
   ]
  },
  {
   "source": [
    "Ainda na tentativa de reduzir o número de colunas, vamos explorar algumas delas em detalhe. Começando pela coluna 'especie', vejamos quais os valores possíveis."
   ],
   "cell_type": "markdown",
   "metadata": {}
  },
  {
   "cell_type": "code",
   "execution_count": 64,
   "metadata": {},
   "outputs": [
    {
     "output_type": "execute_result",
     "data": {
      "text/plain": [
       "array(['Original', 'Estorno / Cancelamento'], dtype=object)"
      ]
     },
     "metadata": {},
     "execution_count": 64
    }
   ],
   "source": [
    "gastos.especie.unique()"
   ]
  },
  {
   "source": [
    "Vamos considerar que para a nossa análise, precisamos apenas dos pagamentos originais. Estornos vamos avaliar posteriormente."
   ],
   "cell_type": "markdown",
   "metadata": {}
  },
  {
   "cell_type": "code",
   "execution_count": 66,
   "metadata": {},
   "outputs": [
    {
     "output_type": "execute_result",
     "data": {
      "text/plain": [
       "        data                documento documentoResumido  \\\n",
       "0 2020-02-01  154040152572020OB800038      2020OB800038   \n",
       "1 2020-02-01  154040152572020OB800037      2020OB800037   \n",
       "2 2020-02-01  154040152572020OB800036      2020OB800036   \n",
       "\n",
       "                                          observacao          funcao  \\\n",
       "0  APROPRIACAO DA FOLHA DE PAGAMENTO DO SERVIDOR ...  -14 - Múltiplo   \n",
       "1  APROPRIACAO DA FOLHA DE PAGAMENTO DO SERVIDOR ...  -14 - Múltiplo   \n",
       "2  APROPRIACAO DA FOLHA DE PAGAMENTO DO SERVIDOR ...   12 - Educação   \n",
       "\n",
       "               subfuncao                                           programa  \\\n",
       "0         -14 - Múltiplo                                     -14 - Múltiplo   \n",
       "1         -14 - Múltiplo                                     -14 - Múltiplo   \n",
       "2  364 - Ensino superior  2109 - PROGRAMA DE GESTAO E MANUTENCAO DO MINI...   \n",
       "\n",
       "                           acao  \\\n",
       "0                -14 - Múltiplo   \n",
       "1                -14 - Múltiplo   \n",
       "2  20TP - ATIVOS CIVIS DA UNIAO   \n",
       "\n",
       "                                           subtitulo  \\\n",
       "0                                     -14 - Múltiplo   \n",
       "1                                     -14 - Múltiplo   \n",
       "2  20TP0053 - ATIVOS CIVIS DA UNIAO              ...   \n",
       "\n",
       "             localizadorGasto  \\\n",
       "0              -14 - Múltiplo   \n",
       "1              -14 - Múltiplo   \n",
       "2  0053 - NO DISTRITO FEDERAL   \n",
       "\n",
       "                                          favorecido    codigoFavorecido  \\\n",
       "0            00.000.000/0001-91 - BANCO DO BRASIL SA  00.000.000/0001-91   \n",
       "1            00.000.000/0001-91 - BANCO DO BRASIL SA  00.000.000/0001-91   \n",
       "2  02.038.232/0001-64 - BANCO COOPERATIVO DO BRAS...  02.038.232/0001-64   \n",
       "\n",
       "                    nomeFavorecido ufFavorecido          valor  \\\n",
       "0               BANCO DO BRASIL SA           DF  20.000.000,00   \n",
       "1               BANCO DO BRASIL SA           DF  20.000.000,00   \n",
       "2  BANCO COOPERATIVO DO BRASIL S/A           DF   1.462.417,50   \n",
       "\n",
       "                                              uo               categoria  \\\n",
       "0  FUNDACAO UNIVERSIDADE DE BRASILIA                        M - Múltiplo   \n",
       "1  FUNDACAO UNIVERSIDADE DE BRASILIA                        M - Múltiplo   \n",
       "2  FUNDACAO UNIVERSIDADE DE BRASILIA              3 - DESPESAS CORRENTES   \n",
       "\n",
       "                            grupo  \\\n",
       "0                    M - Múltiplo   \n",
       "1                    M - Múltiplo   \n",
       "2  1 - Pessoal e Encargos Sociais   \n",
       "\n",
       "                                            elemento  \\\n",
       "0                                      -4 - Múltiplo   \n",
       "1                                      -4 - Múltiplo   \n",
       "2  11 - Vencimentos e Vantagens Fixas - Pessoal C...   \n",
       "\n",
       "                     modalidade        numeroProcesso  \n",
       "0                 -4 - Múltiplo  23106.006576/2019-16  \n",
       "1                 -4 - Múltiplo  23106.006576/2019-16  \n",
       "2  90 - Reserva de Contingência  23106.006576/2019-16  "
      ],
      "text/html": "<div>\n<style scoped>\n    .dataframe tbody tr th:only-of-type {\n        vertical-align: middle;\n    }\n\n    .dataframe tbody tr th {\n        vertical-align: top;\n    }\n\n    .dataframe thead th {\n        text-align: right;\n    }\n</style>\n<table border=\"1\" class=\"dataframe\">\n  <thead>\n    <tr style=\"text-align: right;\">\n      <th></th>\n      <th>data</th>\n      <th>documento</th>\n      <th>documentoResumido</th>\n      <th>observacao</th>\n      <th>funcao</th>\n      <th>subfuncao</th>\n      <th>programa</th>\n      <th>acao</th>\n      <th>subtitulo</th>\n      <th>localizadorGasto</th>\n      <th>favorecido</th>\n      <th>codigoFavorecido</th>\n      <th>nomeFavorecido</th>\n      <th>ufFavorecido</th>\n      <th>valor</th>\n      <th>uo</th>\n      <th>categoria</th>\n      <th>grupo</th>\n      <th>elemento</th>\n      <th>modalidade</th>\n      <th>numeroProcesso</th>\n    </tr>\n  </thead>\n  <tbody>\n    <tr>\n      <th>0</th>\n      <td>2020-02-01</td>\n      <td>154040152572020OB800038</td>\n      <td>2020OB800038</td>\n      <td>APROPRIACAO DA FOLHA DE PAGAMENTO DO SERVIDOR ...</td>\n      <td>-14 - Múltiplo</td>\n      <td>-14 - Múltiplo</td>\n      <td>-14 - Múltiplo</td>\n      <td>-14 - Múltiplo</td>\n      <td>-14 - Múltiplo</td>\n      <td>-14 - Múltiplo</td>\n      <td>00.000.000/0001-91 - BANCO DO BRASIL SA</td>\n      <td>00.000.000/0001-91</td>\n      <td>BANCO DO BRASIL SA</td>\n      <td>DF</td>\n      <td>20.000.000,00</td>\n      <td>FUNDACAO UNIVERSIDADE DE BRASILIA</td>\n      <td>M - Múltiplo</td>\n      <td>M - Múltiplo</td>\n      <td>-4 - Múltiplo</td>\n      <td>-4 - Múltiplo</td>\n      <td>23106.006576/2019-16</td>\n    </tr>\n    <tr>\n      <th>1</th>\n      <td>2020-02-01</td>\n      <td>154040152572020OB800037</td>\n      <td>2020OB800037</td>\n      <td>APROPRIACAO DA FOLHA DE PAGAMENTO DO SERVIDOR ...</td>\n      <td>-14 - Múltiplo</td>\n      <td>-14 - Múltiplo</td>\n      <td>-14 - Múltiplo</td>\n      <td>-14 - Múltiplo</td>\n      <td>-14 - Múltiplo</td>\n      <td>-14 - Múltiplo</td>\n      <td>00.000.000/0001-91 - BANCO DO BRASIL SA</td>\n      <td>00.000.000/0001-91</td>\n      <td>BANCO DO BRASIL SA</td>\n      <td>DF</td>\n      <td>20.000.000,00</td>\n      <td>FUNDACAO UNIVERSIDADE DE BRASILIA</td>\n      <td>M - Múltiplo</td>\n      <td>M - Múltiplo</td>\n      <td>-4 - Múltiplo</td>\n      <td>-4 - Múltiplo</td>\n      <td>23106.006576/2019-16</td>\n    </tr>\n    <tr>\n      <th>2</th>\n      <td>2020-02-01</td>\n      <td>154040152572020OB800036</td>\n      <td>2020OB800036</td>\n      <td>APROPRIACAO DA FOLHA DE PAGAMENTO DO SERVIDOR ...</td>\n      <td>12 - Educação</td>\n      <td>364 - Ensino superior</td>\n      <td>2109 - PROGRAMA DE GESTAO E MANUTENCAO DO MINI...</td>\n      <td>20TP - ATIVOS CIVIS DA UNIAO</td>\n      <td>20TP0053 - ATIVOS CIVIS DA UNIAO              ...</td>\n      <td>0053 - NO DISTRITO FEDERAL</td>\n      <td>02.038.232/0001-64 - BANCO COOPERATIVO DO BRAS...</td>\n      <td>02.038.232/0001-64</td>\n      <td>BANCO COOPERATIVO DO BRASIL S/A</td>\n      <td>DF</td>\n      <td>1.462.417,50</td>\n      <td>FUNDACAO UNIVERSIDADE DE BRASILIA</td>\n      <td>3 - DESPESAS CORRENTES</td>\n      <td>1 - Pessoal e Encargos Sociais</td>\n      <td>11 - Vencimentos e Vantagens Fixas - Pessoal C...</td>\n      <td>90 - Reserva de Contingência</td>\n      <td>23106.006576/2019-16</td>\n    </tr>\n  </tbody>\n</table>\n</div>"
     },
     "metadata": {},
     "execution_count": 66
    }
   ],
   "source": [
    "gastos = gastos.loc[gastos['especie']=='Original']\n",
    "gastos.drop(['especie'], axis=1, inplace=True)\n",
    "gastos.head(3)"
   ]
  },
  {
   "source": [
    "Vamos verificar a situação do nosso dataset agora:"
   ],
   "cell_type": "markdown",
   "metadata": {}
  },
  {
   "cell_type": "code",
   "execution_count": 67,
   "metadata": {},
   "outputs": [
    {
     "output_type": "stream",
     "name": "stdout",
     "text": [
      "<class 'pandas.core.frame.DataFrame'>\nInt64Index: 3630 entries, 0 to 3751\nData columns (total 21 columns):\n #   Column             Non-Null Count  Dtype         \n---  ------             --------------  -----         \n 0   data               3630 non-null   datetime64[ns]\n 1   documento          3630 non-null   object        \n 2   documentoResumido  3630 non-null   object        \n 3   observacao         3630 non-null   object        \n 4   funcao             3630 non-null   object        \n 5   subfuncao          3630 non-null   object        \n 6   programa           3630 non-null   object        \n 7   acao               3630 non-null   object        \n 8   subtitulo          3630 non-null   object        \n 9   localizadorGasto   3630 non-null   object        \n 10  favorecido         3630 non-null   object        \n 11  codigoFavorecido   3630 non-null   object        \n 12  nomeFavorecido     3630 non-null   object        \n 13  ufFavorecido       3630 non-null   object        \n 14  valor              3630 non-null   object        \n 15  uo                 3630 non-null   object        \n 16  categoria          3630 non-null   object        \n 17  grupo              3630 non-null   object        \n 18  elemento           3630 non-null   object        \n 19  modalidade         3630 non-null   object        \n 20  numeroProcesso     3621 non-null   object        \ndtypes: datetime64[ns](1), object(20)\nmemory usage: 623.9+ KB\n"
     ]
    }
   ],
   "source": [
    "gastos.info()"
   ]
  },
  {
   "cell_type": "code",
   "execution_count": 69,
   "metadata": {},
   "outputs": [],
   "source": [
    "def formatar_valor(df):\n",
    "    df_copy = df.copy()\n",
    "    \n",
    "    df_copy['valor'] = [x.replace('.', '') for x in df_copy['valor']]\n",
    "    df_copy['valor'] = [x.replace(' ', '') for x in df_copy['valor']]\n",
    "    df_copy['valor'] = [x.replace(',', '.') for x in df_copy['valor']]\n",
    "    df_copy['valor'] = df_copy['valor'].astype(float)\n",
    "    df_copy.valor = df_copy.valor.round(2)\n",
    "    \n",
    "    return df_copy"
   ]
  },
  {
   "cell_type": "code",
   "execution_count": 70,
   "metadata": {},
   "outputs": [
    {
     "output_type": "execute_result",
     "data": {
      "text/plain": [
       "0       20000000.00\n",
       "1       20000000.00\n",
       "2        1462417.50\n",
       "3          26338.26\n",
       "4        3542903.35\n",
       "           ...     \n",
       "3747         808.00\n",
       "3748         475.00\n",
       "3749         404.00\n",
       "3750          71.00\n",
       "3751         374.00\n",
       "Name: valor, Length: 3630, dtype: float64"
      ]
     },
     "metadata": {},
     "execution_count": 70
    }
   ],
   "source": [
    "gastos = formatar_valor(gastos)\n",
    "gastos.valor"
   ]
  },
  {
   "cell_type": "code",
   "execution_count": 71,
   "metadata": {},
   "outputs": [
    {
     "output_type": "execute_result",
     "data": {
      "text/plain": [
       "elemento\n",
       "-4 - Múltiplo                                                               2.443323e+08\n",
       "39 - Outros Serviços de Terceiros - Pessoa Jurídica                         3.468604e+07\n",
       "11 - Vencimentos e Vantagens Fixas - Pessoal Civil                          3.281838e+07\n",
       "37 - Locação de Mão-de-Obra                                                 1.083919e+07\n",
       "18 - Auxílio Financeiro a Estudantes                                        1.007679e+07\n",
       "91 - Sentenças Judiciais                                                    4.065824e+06\n",
       "20 - Auxílio Financeiro a Pesquisadores                                     2.877969e+06\n",
       "51 - Obras e Instalações                                                    2.612127e+06\n",
       "52 - Equipamentos e Material Permanente                                     2.398513e+06\n",
       "30 - Material de Consumo                                                    1.732829e+06\n",
       "46 - Auxílio-Alimentação                                                    1.001060e+06\n",
       "40 - Serviços de Tecnologia da Informação e Comunicação                     9.863084e+05\n",
       "36 - Outros Serviços de Terceiros - Pessoa Física                           9.739305e+05\n",
       "08 - Outros Benefícios Assistenciais do servidor e do militar               3.767561e+05\n",
       "33 - Passagens e Despesas com Locomoção                                     2.884361e+05\n",
       "Sem informação                                                              2.042460e+05\n",
       "92 - Despesas de Exercícios Anteriores                                      8.770116e+04\n",
       "41 - Contribuições                                                          6.722787e+04\n",
       "14 - Diárias - Civil                                                        5.607666e+04\n",
       "93 - Indenizações e Restituições                                            5.568050e+04\n",
       "47 - Obrigações Tributárias e Contributivas                                 2.730082e+04\n",
       "31 - Premiações Culturais, Artísticas, Científicas, Desportivas e Outras    1.150000e+04\n",
       "16 - Outras Despesas Variáveis - Pessoal Civil                              4.182560e+03\n",
       "Name: valor, dtype: float64"
      ]
     },
     "metadata": {},
     "execution_count": 71
    }
   ],
   "source": [
    "gastos_por_elemento = gastos.groupby(\"elemento\")[\"valor\"].sum().sort_values(ascending=False)\n",
    "gastos_por_elemento"
   ]
  },
  {
   "cell_type": "code",
   "execution_count": 72,
   "metadata": {},
   "outputs": [
    {
     "output_type": "execute_result",
     "data": {
      "text/plain": [
       "grupo\n",
       "M - Múltiplo                      2.443323e+08\n",
       "3 - Outras Despesas Correntes     6.409376e+07\n",
       "1 - Pessoal e Encargos Sociais    3.688883e+07\n",
       "4 - Investimentos                 5.061235e+06\n",
       "S - Sem informação                2.042460e+05\n",
       "Name: valor, dtype: float64"
      ]
     },
     "metadata": {},
     "execution_count": 72
    }
   ],
   "source": [
    "gastos_por_grupo = gastos.groupby(\"grupo\")[\"valor\"].sum().sort_values(ascending=False)\n",
    "gastos_por_grupo"
   ]
  },
  {
   "source": [
    "Não fica claro o que são esses gastos do grupo 'Múltiplo', vamos explorar no detalhe esse grupo e elemento"
   ],
   "cell_type": "markdown",
   "metadata": {}
  },
  {
   "cell_type": "code",
   "execution_count": 73,
   "metadata": {},
   "outputs": [
    {
     "output_type": "execute_result",
     "data": {
      "text/plain": [
       "          data                documento documentoResumido  \\\n",
       "0   2020-02-01  154040152572020OB800038      2020OB800038   \n",
       "1   2020-02-01  154040152572020OB800037      2020OB800037   \n",
       "6   2020-02-01  154040152572020OB800032      2020OB800032   \n",
       "9   2020-02-01  154040152572020OB800029      2020OB800029   \n",
       "51  2020-10-01  154040152572020OB800120      2020OB800120   \n",
       "84  2020-01-15  154040152572020OB800258      2020OB800258   \n",
       "123 2020-01-17  154040152572020OB800456      2020OB800456   \n",
       "124 2020-01-17  154040152572020OB800455      2020OB800455   \n",
       "125 2020-01-17  154040152572020OB800454      2020OB800454   \n",
       "126 2020-01-17  154040152572020OB800453      2020OB800453   \n",
       "\n",
       "                                            observacao          funcao  \\\n",
       "0    APROPRIACAO DA FOLHA DE PAGAMENTO DO SERVIDOR ...  -14 - Múltiplo   \n",
       "1    APROPRIACAO DA FOLHA DE PAGAMENTO DO SERVIDOR ...  -14 - Múltiplo   \n",
       "6    APROPRIACAO DA FOLHA DE PAGAMENTO DO SERVIDOR ...   12 - Educação   \n",
       "9    APROPRIACAO DA FOLHA DE PAGAMENTO DO SERVIDOR ...   12 - Educação   \n",
       "51   FATURA ENEL 2725133 EMITIDA EM 18/12/2019, COD...   12 - Educação   \n",
       "84   NFSE-98922 EMITIDA EM 23/12/2019 // SERVICOS D...   12 - Educação   \n",
       "123  ID 41203-1 EMITIDA EM 10/12/2019, NF 2427242//...   12 - Educação   \n",
       "124  ID 41194-9 EMITIDA EM 10/12/2019, NF 2427233//...   12 - Educação   \n",
       "125  ID 41195-7 EMITIDA EM 10/12/2019, NF 2427234//...   12 - Educação   \n",
       "126  ID 41190-6 EMITIDA EM 10/12/2019, NF 2427226//...   12 - Educação   \n",
       "\n",
       "                 subfuncao                                           programa  \\\n",
       "0           -14 - Múltiplo                                     -14 - Múltiplo   \n",
       "1           -14 - Múltiplo                                     -14 - Múltiplo   \n",
       "6    364 - Ensino superior  2109 - PROGRAMA DE GESTAO E MANUTENCAO DO MINI...   \n",
       "9    364 - Ensino superior  2109 - PROGRAMA DE GESTAO E MANUTENCAO DO MINI...   \n",
       "51   364 - Ensino superior            2080 - EDUCACAO DE QUALIDADE PARA TODOS   \n",
       "84   364 - Ensino superior            2080 - EDUCACAO DE QUALIDADE PARA TODOS   \n",
       "123  364 - Ensino superior            2080 - EDUCACAO DE QUALIDADE PARA TODOS   \n",
       "124  364 - Ensino superior            2080 - EDUCACAO DE QUALIDADE PARA TODOS   \n",
       "125  364 - Ensino superior            2080 - EDUCACAO DE QUALIDADE PARA TODOS   \n",
       "126  364 - Ensino superior            2080 - EDUCACAO DE QUALIDADE PARA TODOS   \n",
       "\n",
       "                                                  acao  \\\n",
       "0                                       -14 - Múltiplo   \n",
       "1                                       -14 - Múltiplo   \n",
       "6                         20TP - ATIVOS CIVIS DA UNIAO   \n",
       "9                         20TP - ATIVOS CIVIS DA UNIAO   \n",
       "51   20RK - FUNCIONAMENTO DE INSTITUICOES FEDERAIS ...   \n",
       "84   20RK - FUNCIONAMENTO DE INSTITUICOES FEDERAIS ...   \n",
       "123  20RK - FUNCIONAMENTO DE INSTITUICOES FEDERAIS ...   \n",
       "124  20RK - FUNCIONAMENTO DE INSTITUICOES FEDERAIS ...   \n",
       "125  20RK - FUNCIONAMENTO DE INSTITUICOES FEDERAIS ...   \n",
       "126  20RK - FUNCIONAMENTO DE INSTITUICOES FEDERAIS ...   \n",
       "\n",
       "                                             subtitulo  \\\n",
       "0                                       -14 - Múltiplo   \n",
       "1                                       -14 - Múltiplo   \n",
       "6    20TP0053 - ATIVOS CIVIS DA UNIAO              ...   \n",
       "9    20TP0053 - ATIVOS CIVIS DA UNIAO              ...   \n",
       "51   20RK0053 - FUNCIONAMENTO DE INSTITUICOES FEDER...   \n",
       "84   20RK0053 - FUNCIONAMENTO DE INSTITUICOES FEDER...   \n",
       "123  20RK0053 - FUNCIONAMENTO DE INSTITUICOES FEDER...   \n",
       "124  20RK0053 - FUNCIONAMENTO DE INSTITUICOES FEDER...   \n",
       "125  20RK0053 - FUNCIONAMENTO DE INSTITUICOES FEDER...   \n",
       "126  20RK0053 - FUNCIONAMENTO DE INSTITUICOES FEDER...   \n",
       "\n",
       "               localizadorGasto  \\\n",
       "0                -14 - Múltiplo   \n",
       "1                -14 - Múltiplo   \n",
       "6    0053 - NO DISTRITO FEDERAL   \n",
       "9    0053 - NO DISTRITO FEDERAL   \n",
       "51   0053 - NO DISTRITO FEDERAL   \n",
       "84   0053 - NO DISTRITO FEDERAL   \n",
       "123  0053 - NO DISTRITO FEDERAL   \n",
       "124  0053 - NO DISTRITO FEDERAL   \n",
       "125  0053 - NO DISTRITO FEDERAL   \n",
       "126  0053 - NO DISTRITO FEDERAL   \n",
       "\n",
       "                                            favorecido    codigoFavorecido  \\\n",
       "0              00.000.000/0001-91 - BANCO DO BRASIL SA  00.000.000/0001-91   \n",
       "1              00.000.000/0001-91 - BANCO DO BRASIL SA  00.000.000/0001-91   \n",
       "6         00.360.305/0001-04 - CAIXA ECONOMICA FEDERAL  00.360.305/0001-04   \n",
       "9              00.000.000/0001-91 - BANCO DO BRASIL SA  00.000.000/0001-91   \n",
       "51             00.000.000/0001-91 - BANCO DO BRASIL SA  00.000.000/0001-91   \n",
       "84   07.432.517/0001-07 - SIMPRESS COMERCIO LOCACAO...  07.432.517/0001-07   \n",
       "123            00.000.000/0001-91 - BANCO DO BRASIL SA  00.000.000/0001-91   \n",
       "124            00.000.000/0001-91 - BANCO DO BRASIL SA  00.000.000/0001-91   \n",
       "125            00.000.000/0001-91 - BANCO DO BRASIL SA  00.000.000/0001-91   \n",
       "126            00.000.000/0001-91 - BANCO DO BRASIL SA  00.000.000/0001-91   \n",
       "\n",
       "                                nomeFavorecido ufFavorecido        valor  \\\n",
       "0                           BANCO DO BRASIL SA           DF  20000000.00   \n",
       "1                           BANCO DO BRASIL SA           DF  20000000.00   \n",
       "6                      CAIXA ECONOMICA FEDERAL           DF  11538052.05   \n",
       "9                           BANCO DO BRASIL SA           DF  23655843.48   \n",
       "51                          BANCO DO BRASIL SA           DF       159.71   \n",
       "84   SIMPRESS COMERCIO LOCACAO E SERVICOS LTDA           SP    100066.67   \n",
       "123                         BANCO DO BRASIL SA           DF       760.77   \n",
       "124                         BANCO DO BRASIL SA           DF       278.78   \n",
       "125                         BANCO DO BRASIL SA           DF        47.26   \n",
       "126                         BANCO DO BRASIL SA           DF       272.77   \n",
       "\n",
       "                                                uo     categoria  \\\n",
       "0    FUNDACAO UNIVERSIDADE DE BRASILIA              M - Múltiplo   \n",
       "1    FUNDACAO UNIVERSIDADE DE BRASILIA              M - Múltiplo   \n",
       "6    FUNDACAO UNIVERSIDADE DE BRASILIA              M - Múltiplo   \n",
       "9    FUNDACAO UNIVERSIDADE DE BRASILIA              M - Múltiplo   \n",
       "51   FUNDACAO UNIVERSIDADE DE BRASILIA              M - Múltiplo   \n",
       "84   FUNDACAO UNIVERSIDADE DE BRASILIA              M - Múltiplo   \n",
       "123  FUNDACAO UNIVERSIDADE DE BRASILIA              M - Múltiplo   \n",
       "124  FUNDACAO UNIVERSIDADE DE BRASILIA              M - Múltiplo   \n",
       "125  FUNDACAO UNIVERSIDADE DE BRASILIA              M - Múltiplo   \n",
       "126  FUNDACAO UNIVERSIDADE DE BRASILIA              M - Múltiplo   \n",
       "\n",
       "            grupo       elemento     modalidade        numeroProcesso  \n",
       "0    M - Múltiplo  -4 - Múltiplo  -4 - Múltiplo  23106.006576/2019-16  \n",
       "1    M - Múltiplo  -4 - Múltiplo  -4 - Múltiplo  23106.006576/2019-16  \n",
       "6    M - Múltiplo  -4 - Múltiplo  -4 - Múltiplo  23106.006576/2019-16  \n",
       "9    M - Múltiplo  -4 - Múltiplo  -4 - Múltiplo  23106.006576/2019-16  \n",
       "51   M - Múltiplo  -4 - Múltiplo  -4 - Múltiplo  23106.156256/2019-14  \n",
       "84   M - Múltiplo  -4 - Múltiplo  -4 - Múltiplo  23106.158188/2019-10  \n",
       "123  M - Múltiplo  -4 - Múltiplo  -4 - Múltiplo  23106.001531/2020-99  \n",
       "124  M - Múltiplo  -4 - Múltiplo  -4 - Múltiplo  23106.001531/2020-99  \n",
       "125  M - Múltiplo  -4 - Múltiplo  -4 - Múltiplo  23106.001531/2020-99  \n",
       "126  M - Múltiplo  -4 - Múltiplo  -4 - Múltiplo  23106.001531/2020-99  "
      ],
      "text/html": "<div>\n<style scoped>\n    .dataframe tbody tr th:only-of-type {\n        vertical-align: middle;\n    }\n\n    .dataframe tbody tr th {\n        vertical-align: top;\n    }\n\n    .dataframe thead th {\n        text-align: right;\n    }\n</style>\n<table border=\"1\" class=\"dataframe\">\n  <thead>\n    <tr style=\"text-align: right;\">\n      <th></th>\n      <th>data</th>\n      <th>documento</th>\n      <th>documentoResumido</th>\n      <th>observacao</th>\n      <th>funcao</th>\n      <th>subfuncao</th>\n      <th>programa</th>\n      <th>acao</th>\n      <th>subtitulo</th>\n      <th>localizadorGasto</th>\n      <th>favorecido</th>\n      <th>codigoFavorecido</th>\n      <th>nomeFavorecido</th>\n      <th>ufFavorecido</th>\n      <th>valor</th>\n      <th>uo</th>\n      <th>categoria</th>\n      <th>grupo</th>\n      <th>elemento</th>\n      <th>modalidade</th>\n      <th>numeroProcesso</th>\n    </tr>\n  </thead>\n  <tbody>\n    <tr>\n      <th>0</th>\n      <td>2020-02-01</td>\n      <td>154040152572020OB800038</td>\n      <td>2020OB800038</td>\n      <td>APROPRIACAO DA FOLHA DE PAGAMENTO DO SERVIDOR ...</td>\n      <td>-14 - Múltiplo</td>\n      <td>-14 - Múltiplo</td>\n      <td>-14 - Múltiplo</td>\n      <td>-14 - Múltiplo</td>\n      <td>-14 - Múltiplo</td>\n      <td>-14 - Múltiplo</td>\n      <td>00.000.000/0001-91 - BANCO DO BRASIL SA</td>\n      <td>00.000.000/0001-91</td>\n      <td>BANCO DO BRASIL SA</td>\n      <td>DF</td>\n      <td>20000000.00</td>\n      <td>FUNDACAO UNIVERSIDADE DE BRASILIA</td>\n      <td>M - Múltiplo</td>\n      <td>M - Múltiplo</td>\n      <td>-4 - Múltiplo</td>\n      <td>-4 - Múltiplo</td>\n      <td>23106.006576/2019-16</td>\n    </tr>\n    <tr>\n      <th>1</th>\n      <td>2020-02-01</td>\n      <td>154040152572020OB800037</td>\n      <td>2020OB800037</td>\n      <td>APROPRIACAO DA FOLHA DE PAGAMENTO DO SERVIDOR ...</td>\n      <td>-14 - Múltiplo</td>\n      <td>-14 - Múltiplo</td>\n      <td>-14 - Múltiplo</td>\n      <td>-14 - Múltiplo</td>\n      <td>-14 - Múltiplo</td>\n      <td>-14 - Múltiplo</td>\n      <td>00.000.000/0001-91 - BANCO DO BRASIL SA</td>\n      <td>00.000.000/0001-91</td>\n      <td>BANCO DO BRASIL SA</td>\n      <td>DF</td>\n      <td>20000000.00</td>\n      <td>FUNDACAO UNIVERSIDADE DE BRASILIA</td>\n      <td>M - Múltiplo</td>\n      <td>M - Múltiplo</td>\n      <td>-4 - Múltiplo</td>\n      <td>-4 - Múltiplo</td>\n      <td>23106.006576/2019-16</td>\n    </tr>\n    <tr>\n      <th>6</th>\n      <td>2020-02-01</td>\n      <td>154040152572020OB800032</td>\n      <td>2020OB800032</td>\n      <td>APROPRIACAO DA FOLHA DE PAGAMENTO DO SERVIDOR ...</td>\n      <td>12 - Educação</td>\n      <td>364 - Ensino superior</td>\n      <td>2109 - PROGRAMA DE GESTAO E MANUTENCAO DO MINI...</td>\n      <td>20TP - ATIVOS CIVIS DA UNIAO</td>\n      <td>20TP0053 - ATIVOS CIVIS DA UNIAO              ...</td>\n      <td>0053 - NO DISTRITO FEDERAL</td>\n      <td>00.360.305/0001-04 - CAIXA ECONOMICA FEDERAL</td>\n      <td>00.360.305/0001-04</td>\n      <td>CAIXA ECONOMICA FEDERAL</td>\n      <td>DF</td>\n      <td>11538052.05</td>\n      <td>FUNDACAO UNIVERSIDADE DE BRASILIA</td>\n      <td>M - Múltiplo</td>\n      <td>M - Múltiplo</td>\n      <td>-4 - Múltiplo</td>\n      <td>-4 - Múltiplo</td>\n      <td>23106.006576/2019-16</td>\n    </tr>\n    <tr>\n      <th>9</th>\n      <td>2020-02-01</td>\n      <td>154040152572020OB800029</td>\n      <td>2020OB800029</td>\n      <td>APROPRIACAO DA FOLHA DE PAGAMENTO DO SERVIDOR ...</td>\n      <td>12 - Educação</td>\n      <td>364 - Ensino superior</td>\n      <td>2109 - PROGRAMA DE GESTAO E MANUTENCAO DO MINI...</td>\n      <td>20TP - ATIVOS CIVIS DA UNIAO</td>\n      <td>20TP0053 - ATIVOS CIVIS DA UNIAO              ...</td>\n      <td>0053 - NO DISTRITO FEDERAL</td>\n      <td>00.000.000/0001-91 - BANCO DO BRASIL SA</td>\n      <td>00.000.000/0001-91</td>\n      <td>BANCO DO BRASIL SA</td>\n      <td>DF</td>\n      <td>23655843.48</td>\n      <td>FUNDACAO UNIVERSIDADE DE BRASILIA</td>\n      <td>M - Múltiplo</td>\n      <td>M - Múltiplo</td>\n      <td>-4 - Múltiplo</td>\n      <td>-4 - Múltiplo</td>\n      <td>23106.006576/2019-16</td>\n    </tr>\n    <tr>\n      <th>51</th>\n      <td>2020-10-01</td>\n      <td>154040152572020OB800120</td>\n      <td>2020OB800120</td>\n      <td>FATURA ENEL 2725133 EMITIDA EM 18/12/2019, COD...</td>\n      <td>12 - Educação</td>\n      <td>364 - Ensino superior</td>\n      <td>2080 - EDUCACAO DE QUALIDADE PARA TODOS</td>\n      <td>20RK - FUNCIONAMENTO DE INSTITUICOES FEDERAIS ...</td>\n      <td>20RK0053 - FUNCIONAMENTO DE INSTITUICOES FEDER...</td>\n      <td>0053 - NO DISTRITO FEDERAL</td>\n      <td>00.000.000/0001-91 - BANCO DO BRASIL SA</td>\n      <td>00.000.000/0001-91</td>\n      <td>BANCO DO BRASIL SA</td>\n      <td>DF</td>\n      <td>159.71</td>\n      <td>FUNDACAO UNIVERSIDADE DE BRASILIA</td>\n      <td>M - Múltiplo</td>\n      <td>M - Múltiplo</td>\n      <td>-4 - Múltiplo</td>\n      <td>-4 - Múltiplo</td>\n      <td>23106.156256/2019-14</td>\n    </tr>\n    <tr>\n      <th>84</th>\n      <td>2020-01-15</td>\n      <td>154040152572020OB800258</td>\n      <td>2020OB800258</td>\n      <td>NFSE-98922 EMITIDA EM 23/12/2019 // SERVICOS D...</td>\n      <td>12 - Educação</td>\n      <td>364 - Ensino superior</td>\n      <td>2080 - EDUCACAO DE QUALIDADE PARA TODOS</td>\n      <td>20RK - FUNCIONAMENTO DE INSTITUICOES FEDERAIS ...</td>\n      <td>20RK0053 - FUNCIONAMENTO DE INSTITUICOES FEDER...</td>\n      <td>0053 - NO DISTRITO FEDERAL</td>\n      <td>07.432.517/0001-07 - SIMPRESS COMERCIO LOCACAO...</td>\n      <td>07.432.517/0001-07</td>\n      <td>SIMPRESS COMERCIO LOCACAO E SERVICOS LTDA</td>\n      <td>SP</td>\n      <td>100066.67</td>\n      <td>FUNDACAO UNIVERSIDADE DE BRASILIA</td>\n      <td>M - Múltiplo</td>\n      <td>M - Múltiplo</td>\n      <td>-4 - Múltiplo</td>\n      <td>-4 - Múltiplo</td>\n      <td>23106.158188/2019-10</td>\n    </tr>\n    <tr>\n      <th>123</th>\n      <td>2020-01-17</td>\n      <td>154040152572020OB800456</td>\n      <td>2020OB800456</td>\n      <td>ID 41203-1 EMITIDA EM 10/12/2019, NF 2427242//...</td>\n      <td>12 - Educação</td>\n      <td>364 - Ensino superior</td>\n      <td>2080 - EDUCACAO DE QUALIDADE PARA TODOS</td>\n      <td>20RK - FUNCIONAMENTO DE INSTITUICOES FEDERAIS ...</td>\n      <td>20RK0053 - FUNCIONAMENTO DE INSTITUICOES FEDER...</td>\n      <td>0053 - NO DISTRITO FEDERAL</td>\n      <td>00.000.000/0001-91 - BANCO DO BRASIL SA</td>\n      <td>00.000.000/0001-91</td>\n      <td>BANCO DO BRASIL SA</td>\n      <td>DF</td>\n      <td>760.77</td>\n      <td>FUNDACAO UNIVERSIDADE DE BRASILIA</td>\n      <td>M - Múltiplo</td>\n      <td>M - Múltiplo</td>\n      <td>-4 - Múltiplo</td>\n      <td>-4 - Múltiplo</td>\n      <td>23106.001531/2020-99</td>\n    </tr>\n    <tr>\n      <th>124</th>\n      <td>2020-01-17</td>\n      <td>154040152572020OB800455</td>\n      <td>2020OB800455</td>\n      <td>ID 41194-9 EMITIDA EM 10/12/2019, NF 2427233//...</td>\n      <td>12 - Educação</td>\n      <td>364 - Ensino superior</td>\n      <td>2080 - EDUCACAO DE QUALIDADE PARA TODOS</td>\n      <td>20RK - FUNCIONAMENTO DE INSTITUICOES FEDERAIS ...</td>\n      <td>20RK0053 - FUNCIONAMENTO DE INSTITUICOES FEDER...</td>\n      <td>0053 - NO DISTRITO FEDERAL</td>\n      <td>00.000.000/0001-91 - BANCO DO BRASIL SA</td>\n      <td>00.000.000/0001-91</td>\n      <td>BANCO DO BRASIL SA</td>\n      <td>DF</td>\n      <td>278.78</td>\n      <td>FUNDACAO UNIVERSIDADE DE BRASILIA</td>\n      <td>M - Múltiplo</td>\n      <td>M - Múltiplo</td>\n      <td>-4 - Múltiplo</td>\n      <td>-4 - Múltiplo</td>\n      <td>23106.001531/2020-99</td>\n    </tr>\n    <tr>\n      <th>125</th>\n      <td>2020-01-17</td>\n      <td>154040152572020OB800454</td>\n      <td>2020OB800454</td>\n      <td>ID 41195-7 EMITIDA EM 10/12/2019, NF 2427234//...</td>\n      <td>12 - Educação</td>\n      <td>364 - Ensino superior</td>\n      <td>2080 - EDUCACAO DE QUALIDADE PARA TODOS</td>\n      <td>20RK - FUNCIONAMENTO DE INSTITUICOES FEDERAIS ...</td>\n      <td>20RK0053 - FUNCIONAMENTO DE INSTITUICOES FEDER...</td>\n      <td>0053 - NO DISTRITO FEDERAL</td>\n      <td>00.000.000/0001-91 - BANCO DO BRASIL SA</td>\n      <td>00.000.000/0001-91</td>\n      <td>BANCO DO BRASIL SA</td>\n      <td>DF</td>\n      <td>47.26</td>\n      <td>FUNDACAO UNIVERSIDADE DE BRASILIA</td>\n      <td>M - Múltiplo</td>\n      <td>M - Múltiplo</td>\n      <td>-4 - Múltiplo</td>\n      <td>-4 - Múltiplo</td>\n      <td>23106.001531/2020-99</td>\n    </tr>\n    <tr>\n      <th>126</th>\n      <td>2020-01-17</td>\n      <td>154040152572020OB800453</td>\n      <td>2020OB800453</td>\n      <td>ID 41190-6 EMITIDA EM 10/12/2019, NF 2427226//...</td>\n      <td>12 - Educação</td>\n      <td>364 - Ensino superior</td>\n      <td>2080 - EDUCACAO DE QUALIDADE PARA TODOS</td>\n      <td>20RK - FUNCIONAMENTO DE INSTITUICOES FEDERAIS ...</td>\n      <td>20RK0053 - FUNCIONAMENTO DE INSTITUICOES FEDER...</td>\n      <td>0053 - NO DISTRITO FEDERAL</td>\n      <td>00.000.000/0001-91 - BANCO DO BRASIL SA</td>\n      <td>00.000.000/0001-91</td>\n      <td>BANCO DO BRASIL SA</td>\n      <td>DF</td>\n      <td>272.77</td>\n      <td>FUNDACAO UNIVERSIDADE DE BRASILIA</td>\n      <td>M - Múltiplo</td>\n      <td>M - Múltiplo</td>\n      <td>-4 - Múltiplo</td>\n      <td>-4 - Múltiplo</td>\n      <td>23106.001531/2020-99</td>\n    </tr>\n  </tbody>\n</table>\n</div>"
     },
     "metadata": {},
     "execution_count": 73
    }
   ],
   "source": [
    "gastos_multiplos = gastos.loc[gastos['grupo']=='M - Múltiplo']\n",
    "gastos_multiplos.head(10)"
   ]
  },
  {
   "cell_type": "code",
   "execution_count": 77,
   "metadata": {},
   "outputs": [
    {
     "output_type": "execute_result",
     "data": {
      "text/plain": [
       "nomeFavorecido\n",
       "BANCO DO BRASIL SA                                                                          203620012.99\n",
       "CAIXA ECONOMICA FEDERAL                                                                      20510409.30\n",
       "ITAU UNIBANCO S.A.                                                                            7611351.01\n",
       "FUNDACAO DE EMPREENDIMENTOS CIENTIFICOS E TECNOLOGICOS                                        4048643.34\n",
       "BANCO SANTANDER (BRASIL) S.A.                                                                 3073263.17\n",
       "CEB DISTRIBUICAO S.A.                                                                         2769816.49\n",
       "BANCO COOPERATIVO DO BRASIL S/A                                                               1447804.27\n",
       "CENTRO BRASILEIRO DE PESQUISA EM  AVALIACAO E SELECAO E DE PROMOCAO DE EVENTOS - CEBRASPE      625657.57\n",
       "LIFE DEFENSE SEGURANCA LTDA                                                                    210182.43\n",
       "PAULO RICARDO DOS SANTOS FERNANDES                                                             132977.73\n",
       "SIMPRESS COMERCIO LOCACAO E SERVICOS LTDA                                                      100066.67\n",
       "TAGUAMOTORS AUTO PECAS E MOTORES LTDA                                                           48431.48\n",
       "HONIX ELEVADORES, MANUTENCAO E COMERCIO LTDA                                                    34055.80\n",
       "IRMAOS REZENDE - COMERCIO DE PECAS E SERVICOS AUTOMOTIVOS LTDA                                  26401.95\n",
       "CORONARIO EDITORA GRAFICA LTDA                                                                  20099.31\n",
       "HILLUX COMERCIO DE PECAS E SERVICOS AUTOMOTIVOS LTDA                                            11413.54\n",
       "CTX TECNOLOGIA E EQUIPAMENTOS EIRELI                                                            10763.50\n",
       "CAIO CESAR DE MEDEIROS COSTA                                                                     6633.11\n",
       "PLANALTO TRANSPORTADORA TURISTICA LTDA                                                           6442.02\n",
       "VCS COMERCIO E SERVICOS DE CHAVEIROS  E CARIMBOS LTDA                                            5455.68\n",
       "NATHALIA DE SOUZA SILVA GRIGORIEVS                                                               3100.00\n",
       "CONDOMINIO DO BLOCO G DA SQN 214                                                                 2597.13\n",
       "WEGH ASSESSORIA E LOGISTICA INTERNACIONAL LTDA                                                   2294.55\n",
       "GUSTAVO SANTANA DE SOUZA                                                                         1395.00\n",
       "EMILY SABRINE FIGUEIREDO MACIEL                                                                   995.00\n",
       "PAMMELLEYE KATHERINNE FRANCOISE REBECCA J S L MACHADO                                             915.00\n",
       "MARIA DE LOURDES LAZZARI DE FREITAS                                                               446.61\n",
       "VIDAMED PRODUTOS HOSPITALARES EIRELI                                                              328.99\n",
       "CEMACO COMERCIO DE MATERIAIS DE CONSTRUCAO LTDA                                                   313.83\n",
       "FUNDACAO UNIVERSIDADE DE BRASILIA - FUB                                                             0.00\n",
       "Name: valor, dtype: float64"
      ]
     },
     "metadata": {},
     "execution_count": 77
    }
   ],
   "source": [
    "gastos_multiplos.groupby(\"nomeFavorecido\")[\"valor\"].sum().sort_values(ascending=False)"
   ]
  }
 ]
}
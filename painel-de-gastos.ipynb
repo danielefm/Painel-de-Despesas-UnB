{
 "metadata": {
  "language_info": {
   "codemirror_mode": {
    "name": "ipython",
    "version": 3
   },
   "file_extension": ".py",
   "mimetype": "text/x-python",
   "name": "python",
   "nbconvert_exporter": "python",
   "pygments_lexer": "ipython3",
   "version": "3.6.9-final"
  },
  "orig_nbformat": 2,
  "kernelspec": {
   "name": "python3",
   "display_name": "Python 3.6.9 64-bit ('venv')",
   "metadata": {
    "interpreter": {
     "hash": "47950f82836bc0609970015104151090e9975713065ae50ff2328b7aac19dc40"
    }
   }
  }
 },
 "nbformat": 4,
 "nbformat_minor": 2,
 "cells": [
  {
   "cell_type": "code",
   "execution_count": 23,
   "metadata": {},
   "outputs": [],
   "source": [
    "import pandas as pd \n",
    "import numpy as np\n",
    "import requests\n",
    "import json\n",
    "\n",
    "from config import API_KEY"
   ]
  },
  {
   "cell_type": "code",
   "execution_count": 24,
   "metadata": {},
   "outputs": [],
   "source": [
    "minha_chave = API_KEY\n",
    "\n",
    "# para conseguir acessar a API, precisamos incluir no cabeçalho da requisição a nossa chave, que definimos anteriormente. Não é necessário alterar essa variável.\n",
    "chave = {'chave-api-dados':API_KEY} "
   ]
  },
  {
   "cell_type": "code",
   "execution_count": 25,
   "metadata": {},
   "outputs": [],
   "source": [
    "url = f'http://www.transparencia.gov.br/api-de-dados/despesas/por-orgao?ano=2020&orgaoSuperior=154040&pagina=1'\n",
    "# esta URL foi gerada a partir da consulta por órgão no swagger\n",
    "   \n",
    "# aqui, fazemos a consulta e obtemos o resultado para cada ano em JSON\n",
    "r_orgao = requests.get(url, verify=True,headers=chave).json()"
   ]
  },
  {
   "cell_type": "code",
   "execution_count": 27,
   "metadata": {},
   "outputs": [
    {
     "output_type": "execute_result",
     "data": {
      "text/plain": [
       "[]"
      ]
     },
     "metadata": {},
     "execution_count": 27
    }
   ],
   "source": [
    "r_orgao"
   ]
  }
 ]
}